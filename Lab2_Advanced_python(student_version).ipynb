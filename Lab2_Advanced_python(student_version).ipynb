{
  "nbformat": 4,
  "nbformat_minor": 0,
  "metadata": {
    "colab": {
      "name": "Lab2.Advanced_python(student_version).ipynb",
      "provenance": [],
      "collapsed_sections": []
    },
    "kernelspec": {
      "display_name": "Python 3",
      "language": "python",
      "name": "python3"
    },
    "language_info": {
      "codemirror_mode": {
        "name": "ipython",
        "version": 3
      },
      "file_extension": ".py",
      "mimetype": "text/x-python",
      "name": "python",
      "nbconvert_exporter": "python",
      "pygments_lexer": "ipython3",
      "version": "3.7.7"
    }
  },
  "cells": [
    {
      "cell_type": "markdown",
      "metadata": {
        "colab_type": "text",
        "id": "KvotscX5kOIr"
      },
      "source": [
        "# **NumPy**\n",
        "\n",
        "This notebook introduces the basic usages of NumPy library, such as NumPy array, array arithematics, and array broadcasting etc\n",
        "\n",
        "\\\n",
        "\n",
        "Instruction: type your code when you see 'Type your code here' in comments"
      ]
    },
    {
      "cell_type": "markdown",
      "metadata": {
        "colab_type": "text",
        "id": "kQJpZVGipvtW"
      },
      "source": [
        " # **Array Creation/Manipulation**\n",
        "\n"
      ]
    },
    {
      "cell_type": "markdown",
      "metadata": {
        "colab_type": "text",
        "id": "Q050E-lKZGYk"
      },
      "source": [
        "Declare an Array using **np.array()**\n",
        "\n",
        "Reshape an Array using **reshape()** or **ravel()**\n"
      ]
    },
    {
      "cell_type": "code",
      "metadata": {
        "colab_type": "code",
        "id": "1b4YE3IPqM-B",
        "colab": {
          "base_uri": "https://localhost:8080/",
          "height": 154
        },
        "outputId": "e9da56e8-f7cb-4408-dd2e-3bd597ba1bea"
      },
      "source": [
        "import numpy as np\n",
        "\n",
        "x = np.array([[1,2,3],[4,5,6],[7,8,9],[10,11,12]])  #create a 4x3 array\n",
        "print(\"ndarray x:\\n\", x)\n",
        "print(\"Shape of x:\", x.shape)\n",
        "print(\"\\n\")\n",
        "\n"
      ],
      "execution_count": 82,
      "outputs": [
        {
          "output_type": "stream",
          "text": [
            "ndarray x:\n",
            " [[ 1  2  3]\n",
            " [ 4  5  6]\n",
            " [ 7  8  9]\n",
            " [10 11 12]]\n",
            "Shape of x: (4, 3)\n",
            "\n",
            "\n"
          ],
          "name": "stdout"
        }
      ]
    },
    {
      "cell_type": "markdown",
      "metadata": {
        "colab_type": "text",
        "id": "Kmc8LtDd4nzP"
      },
      "source": [
        "## Example: Reshape the array x into a column vector"
      ]
    },
    {
      "cell_type": "code",
      "metadata": {
        "colab_type": "code",
        "id": "7lFXXNpKxMh1",
        "colab": {
          "base_uri": "https://localhost:8080/",
          "height": 291
        },
        "outputId": "cd369e98-6123-4f9d-c23e-cfcb24c544e6"
      },
      "source": [
        "x = np.arange(1,13)\n",
        "y1 = x.reshape(-1,1) \n",
        "print(\"After reshape:\\n\", y1)\n",
        "print(\"Shape of y1:\", y1.shape)\n",
        "print(\"\\n\")\n"
      ],
      "execution_count": 83,
      "outputs": [
        {
          "output_type": "stream",
          "text": [
            "After reshape:\n",
            " [[ 1]\n",
            " [ 2]\n",
            " [ 3]\n",
            " [ 4]\n",
            " [ 5]\n",
            " [ 6]\n",
            " [ 7]\n",
            " [ 8]\n",
            " [ 9]\n",
            " [10]\n",
            " [11]\n",
            " [12]]\n",
            "Shape of y1: (12, 1)\n",
            "\n",
            "\n"
          ],
          "name": "stdout"
        }
      ]
    },
    {
      "cell_type": "markdown",
      "metadata": {
        "colab_type": "text",
        "id": "42XW0Bbd4wQ7"
      },
      "source": [
        "## Exercise 1: Reshape the array x into a 3x4 array"
      ]
    },
    {
      "cell_type": "code",
      "metadata": {
        "colab_type": "code",
        "id": "WGOVc2qQxUVl",
        "colab": {
          "base_uri": "https://localhost:8080/",
          "height": 137
        },
        "outputId": "eb2ab94c-84f2-4261-9ddc-2ec744caae98"
      },
      "source": [
        "x = np.arange(1,13)\n",
        "y2 = x.reshape(3,4)\n",
        "print(\"After reshape:\\n\", y2)\n",
        "print(\"Shape of y2:\", y2.shape)\n",
        "print(\"\\n\")\n",
        "\n"
      ],
      "execution_count": 84,
      "outputs": [
        {
          "output_type": "stream",
          "text": [
            "After reshape:\n",
            " [[ 1  2  3  4]\n",
            " [ 5  6  7  8]\n",
            " [ 9 10 11 12]]\n",
            "Shape of y2: (3, 4)\n",
            "\n",
            "\n"
          ],
          "name": "stdout"
        }
      ]
    },
    {
      "cell_type": "markdown",
      "metadata": {
        "colab_type": "text",
        "id": "3IX7mmiBfD9t"
      },
      "source": [
        "##Exercise 2: Reshape the array x into a 2x2x3 array"
      ]
    },
    {
      "cell_type": "code",
      "metadata": {
        "colab_type": "code",
        "id": "mDpP9LkdxVR7",
        "colab": {
          "base_uri": "https://localhost:8080/",
          "height": 171
        },
        "outputId": "d5b0d93c-8afc-44a0-d127-eae510ff0a86"
      },
      "source": [
        "x = np.arange(1,13)\n",
        "y3 = x.reshape(2,2,3)\n",
        "print(\"After reshape:\\n\", y3)\n",
        "print(\"Shape of y3:\", y3.shape)\n",
        "print(\"\\n\")\n",
        "\n"
      ],
      "execution_count": 85,
      "outputs": [
        {
          "output_type": "stream",
          "text": [
            "After reshape:\n",
            " [[[ 1  2  3]\n",
            "  [ 4  5  6]]\n",
            "\n",
            " [[ 7  8  9]\n",
            "  [10 11 12]]]\n",
            "Shape of y3: (2, 2, 3)\n",
            "\n",
            "\n"
          ],
          "name": "stdout"
        }
      ]
    },
    {
      "cell_type": "markdown",
      "metadata": {
        "colab_type": "text",
        "id": "XAPew8FzfIZd"
      },
      "source": [
        "##Exercise 3: Flatten the array y3"
      ]
    },
    {
      "cell_type": "code",
      "metadata": {
        "colab_type": "code",
        "id": "SJSVjyDAxWSb",
        "colab": {
          "base_uri": "https://localhost:8080/",
          "height": 103
        },
        "outputId": "8f1c837b-4545-4c52-df23-f0aa37022d90"
      },
      "source": [
        "z = y3.reshape(1,-1)\n",
        "print(\"After flatten:\\n\", z)\n",
        "print(\"Shape of z:\", z.shape)\n",
        "print(\"\\n\")"
      ],
      "execution_count": 86,
      "outputs": [
        {
          "output_type": "stream",
          "text": [
            "After flatten:\n",
            " [[ 1  2  3  4  5  6  7  8  9 10 11 12]]\n",
            "Shape of z: (1, 12)\n",
            "\n",
            "\n"
          ],
          "name": "stdout"
        }
      ]
    },
    {
      "cell_type": "markdown",
      "metadata": {
        "colab_type": "text",
        "id": "BtSJVdhZpvki"
      },
      "source": [
        "#**Array Arithmetic**\n"
      ]
    },
    {
      "cell_type": "markdown",
      "metadata": {
        "colab_type": "text",
        "id": "kzvRHo2hqCbX"
      },
      "source": [
        "**If the two arrays have same shape, elementwise operation can be performed.**"
      ]
    },
    {
      "cell_type": "markdown",
      "metadata": {
        "colab_type": "text",
        "id": "TEmKiMo5WGDS"
      },
      "source": [
        "##Exercise 4: Same shape arrays arithmetic"
      ]
    },
    {
      "cell_type": "markdown",
      "metadata": {
        "colab_type": "text",
        "id": "0PbYeahYgR8p"
      },
      "source": [
        "Create an Array_b using np.arange() which has a same shape as the Array_a."
      ]
    },
    {
      "cell_type": "code",
      "metadata": {
        "colab_type": "code",
        "id": "bDJtUi97qNvh",
        "colab": {
          "base_uri": "https://localhost:8080/",
          "height": 34
        },
        "outputId": "6094cef2-0b9a-402c-e366-28c5aa8fd79e"
      },
      "source": [
        "\n",
        "Array_a = np.array([[6,20,3,14],[2,10,5,10]])\n",
        "Array_b = np.arange(1,9).reshape(2,4)    \n",
        "print(np.shape(Array_b))               #type your code here\n"
      ],
      "execution_count": 87,
      "outputs": [
        {
          "output_type": "stream",
          "text": [
            "(2, 4)\n"
          ],
          "name": "stdout"
        }
      ]
    },
    {
      "cell_type": "markdown",
      "metadata": {
        "colab_type": "text",
        "id": "s4qX4Dm_hayN"
      },
      "source": [
        "Add array a with array b, and print out the result array."
      ]
    },
    {
      "cell_type": "code",
      "metadata": {
        "colab_type": "code",
        "id": "w0kIDCHnxuIU",
        "colab": {
          "base_uri": "https://localhost:8080/",
          "height": 68
        },
        "outputId": "6e4a7358-1451-46bb-b513-9582a916ed3e"
      },
      "source": [
        "result = Array_a + Array_b                          #type your code here\n",
        "print(\"Array_a + Array_b = \\n\", result)     "
      ],
      "execution_count": 88,
      "outputs": [
        {
          "output_type": "stream",
          "text": [
            "Array_a + Array_b = \n",
            " [[ 7 22  6 18]\n",
            " [ 7 16 12 18]]\n"
          ],
          "name": "stdout"
        }
      ]
    },
    {
      "cell_type": "markdown",
      "metadata": {
        "colab_type": "text",
        "id": "6VOdDYTLiQNl"
      },
      "source": [
        "Subtract Array_b from Array_a ( i.e. Array_a - Array_b ), and print out the result array."
      ]
    },
    {
      "cell_type": "code",
      "metadata": {
        "colab_type": "code",
        "id": "giabKoabxtBM",
        "colab": {
          "base_uri": "https://localhost:8080/",
          "height": 68
        },
        "outputId": "a897ac64-df3e-49b7-8e33-2e7679ad4e58"
      },
      "source": [
        "#type your code here\n",
        "result0 = Array_a - Array_b\n",
        "print(\"Array_a - Array_b = \\n\", result0) "
      ],
      "execution_count": 89,
      "outputs": [
        {
          "output_type": "stream",
          "text": [
            "Array_a - Array_b = \n",
            " [[ 5 18  0 10]\n",
            " [-3  4 -2  2]]\n"
          ],
          "name": "stdout"
        }
      ]
    },
    {
      "cell_type": "markdown",
      "metadata": {
        "colab_type": "text",
        "id": "GDI17aVXwUpQ"
      },
      "source": [
        "Multipy Array_a by Array_b, and print out the result array."
      ]
    },
    {
      "cell_type": "code",
      "metadata": {
        "colab_type": "code",
        "id": "9ToNtdl9xxE8",
        "colab": {
          "base_uri": "https://localhost:8080/",
          "height": 68
        },
        "outputId": "d9a52d79-574a-40dc-e465-bcedae26b7e6"
      },
      "source": [
        "#Type your code here\n",
        "result1 = Array_a * Array_b\n",
        "print(\"Array_a * Array_b = \\n\", result1) \n"
      ],
      "execution_count": 90,
      "outputs": [
        {
          "output_type": "stream",
          "text": [
            "Array_a * Array_b = \n",
            " [[ 6 40  9 56]\n",
            " [10 60 35 80]]\n"
          ],
          "name": "stdout"
        }
      ]
    },
    {
      "cell_type": "markdown",
      "metadata": {
        "colab_type": "text",
        "id": "B3kCxBCLDuhq"
      },
      "source": [
        "Compare Array_a with Array_b (Using == to check the equality), and print out the result array."
      ]
    },
    {
      "cell_type": "code",
      "metadata": {
        "colab_type": "code",
        "id": "a85GVjh6xxsd",
        "colab": {
          "base_uri": "https://localhost:8080/",
          "height": 51
        },
        "outputId": "e270b185-014b-4bbc-e88d-90d6e8a26ee7"
      },
      "source": [
        "#Type your code here\n",
        "print(Array_a == Array_b)\n"
      ],
      "execution_count": 91,
      "outputs": [
        {
          "output_type": "stream",
          "text": [
            "[[False False  True False]\n",
            " [False False False False]]\n"
          ],
          "name": "stdout"
        }
      ]
    },
    {
      "cell_type": "markdown",
      "metadata": {
        "colab_type": "text",
        "id": "IIETrEevpL4J"
      },
      "source": [
        "Compare Array_a with Array_b (using < / > / <= / >= to check the inequlity), and print out the result array."
      ]
    },
    {
      "cell_type": "code",
      "metadata": {
        "colab_type": "code",
        "id": "VSMLYYP2TA8A",
        "colab": {
          "base_uri": "https://localhost:8080/",
          "height": 154
        },
        "outputId": "144a349e-8b9f-4f7f-bf19-ebf10aa1e29a"
      },
      "source": [
        "#type your code here\n",
        "print(Array_a > Array_b)\n",
        "print(Array_a < Array_b)\n",
        "print(Array_a >= Array_b)\n",
        "print(Array_a <= Array_b)\n",
        "\n"
      ],
      "execution_count": 92,
      "outputs": [
        {
          "output_type": "stream",
          "text": [
            "[[ True  True False  True]\n",
            " [False  True False  True]]\n",
            "[[False False False False]\n",
            " [ True False  True False]]\n",
            "[[ True  True  True  True]\n",
            " [False  True False  True]]\n",
            "[[False False  True False]\n",
            " [ True False  True False]]\n"
          ],
          "name": "stdout"
        }
      ]
    },
    {
      "cell_type": "markdown",
      "metadata": {
        "colab_type": "text",
        "id": "w9ZS88MbpvWg"
      },
      "source": [
        "#**Array Broadcasting**\n"
      ]
    },
    {
      "cell_type": "markdown",
      "metadata": {
        "colab_type": "text",
        "id": "b05lQPeqp3GO"
      },
      "source": [
        "**If the arrays have different shapes, the operations can be broadcasted.** \n",
        "\n",
        "**The smaller array will be broadcasted across the larger array**"
      ]
    },
    {
      "cell_type": "code",
      "metadata": {
        "colab_type": "code",
        "id": "FWJgHOirV9eg",
        "colab": {}
      },
      "source": [
        "Array_x = 2                     #a is a scalar\n",
        "Array_y = np.array([2,3,4,5])   #b is a 1x4 array"
      ],
      "execution_count": 93,
      "outputs": []
    },
    {
      "cell_type": "markdown",
      "metadata": {
        "colab_type": "text",
        "id": "MYfcohkZglZl"
      },
      "source": [
        "##Exercise 5: Scalar Arithmetic"
      ]
    },
    {
      "cell_type": "markdown",
      "metadata": {
        "colab_type": "text",
        "id": "YANGDIpfW0C0"
      },
      "source": [
        "Similar to what you did for same shape arrays, try to perform the arithmetic opertaions to different shape arrays ( Array_x and Array_y ), and observe the result."
      ]
    },
    {
      "cell_type": "markdown",
      "metadata": {
        "colab_type": "text",
        "id": "ke25s9LJgtVP"
      },
      "source": [
        "Addition:"
      ]
    },
    {
      "cell_type": "code",
      "metadata": {
        "colab_type": "code",
        "id": "BVYXfv5Ngt2y",
        "colab": {
          "base_uri": "https://localhost:8080/",
          "height": 34
        },
        "outputId": "26253313-3de7-48dc-cb46-2b56aba31ea9"
      },
      "source": [
        "#type your code here \n",
        "print(Array_x + Array_y)\n"
      ],
      "execution_count": 94,
      "outputs": [
        {
          "output_type": "stream",
          "text": [
            "[4 5 6 7]\n"
          ],
          "name": "stdout"
        }
      ]
    },
    {
      "cell_type": "markdown",
      "metadata": {
        "colab_type": "text",
        "id": "G33cKAp2gxxK"
      },
      "source": [
        "Subtraction:"
      ]
    },
    {
      "cell_type": "code",
      "metadata": {
        "colab_type": "code",
        "id": "Iz-UtPkUg0LV",
        "colab": {
          "base_uri": "https://localhost:8080/",
          "height": 34
        },
        "outputId": "dd1c2c80-7fb6-4869-e4f8-ee9d80fe5352"
      },
      "source": [
        "#type your code here \n",
        "print(Array_x - Array_y)\n"
      ],
      "execution_count": 95,
      "outputs": [
        {
          "output_type": "stream",
          "text": [
            "[ 0 -1 -2 -3]\n"
          ],
          "name": "stdout"
        }
      ]
    },
    {
      "cell_type": "markdown",
      "metadata": {
        "colab_type": "text",
        "id": "HlkKV6Eug18W"
      },
      "source": [
        "Multiplication:"
      ]
    },
    {
      "cell_type": "code",
      "metadata": {
        "colab_type": "code",
        "id": "Xc1GtYw-g5eP",
        "colab": {
          "base_uri": "https://localhost:8080/",
          "height": 34
        },
        "outputId": "c34bccb1-0356-4414-b9a6-6b8d868bc3aa"
      },
      "source": [
        "#type your code here \n",
        "print(Array_x * Array_y)\n"
      ],
      "execution_count": 96,
      "outputs": [
        {
          "output_type": "stream",
          "text": [
            "[ 4  6  8 10]\n"
          ],
          "name": "stdout"
        }
      ]
    },
    {
      "cell_type": "markdown",
      "metadata": {
        "colab_type": "text",
        "id": "N5n4KhSfg6el"
      },
      "source": [
        "Division:"
      ]
    },
    {
      "cell_type": "code",
      "metadata": {
        "colab_type": "code",
        "id": "nUFFh2-hg8lE",
        "colab": {
          "base_uri": "https://localhost:8080/",
          "height": 34
        },
        "outputId": "bac6aa70-35e9-4323-fc5f-b88ec43aff85"
      },
      "source": [
        "#type your code here \n",
        "print(Array_x / Array_y)"
      ],
      "execution_count": 97,
      "outputs": [
        {
          "output_type": "stream",
          "text": [
            "[1.         0.66666667 0.5        0.4       ]\n"
          ],
          "name": "stdout"
        }
      ]
    },
    {
      "cell_type": "markdown",
      "metadata": {
        "colab_type": "text",
        "id": "h-0YW22Mg9gv"
      },
      "source": [
        "Equality comparision:"
      ]
    },
    {
      "cell_type": "code",
      "metadata": {
        "colab_type": "code",
        "id": "6eOQ59QFhAX-",
        "colab": {
          "base_uri": "https://localhost:8080/",
          "height": 34
        },
        "outputId": "487d41ea-cb9f-4819-b70d-bc519fca41f6"
      },
      "source": [
        "#type your code here \n",
        "print(Array_x == Array_y)\n"
      ],
      "execution_count": 98,
      "outputs": [
        {
          "output_type": "stream",
          "text": [
            "[ True False False False]\n"
          ],
          "name": "stdout"
        }
      ]
    },
    {
      "cell_type": "markdown",
      "metadata": {
        "colab_type": "text",
        "id": "68A8yearhDlc"
      },
      "source": [
        "Inequality comparision:"
      ]
    },
    {
      "cell_type": "code",
      "metadata": {
        "colab_type": "code",
        "id": "o681TWnQhGTY",
        "colab": {
          "base_uri": "https://localhost:8080/",
          "height": 86
        },
        "outputId": "333d5cf7-f710-4109-d1e4-7a523bf605b3"
      },
      "source": [
        "#type your code here \n",
        "print(Array_x > Array_y)\n",
        "print(Array_x < Array_y)\n",
        "print(Array_x >= Array_y)\n",
        "print(Array_x <= Array_y)\n"
      ],
      "execution_count": 99,
      "outputs": [
        {
          "output_type": "stream",
          "text": [
            "[False False False False]\n",
            "[False  True  True  True]\n",
            "[ True False False False]\n",
            "[ True  True  True  True]\n"
          ],
          "name": "stdout"
        }
      ]
    },
    {
      "cell_type": "markdown",
      "metadata": {
        "colab_type": "text",
        "id": "RbSZiGc2J6Oo"
      },
      "source": [
        "## Example: Multipy a 2x3 Array with 1x3 Array"
      ]
    },
    {
      "cell_type": "code",
      "metadata": {
        "colab_type": "code",
        "id": "04cYfH4EqOvB",
        "colab": {
          "base_uri": "https://localhost:8080/",
          "height": 291
        },
        "outputId": "d2e8c7ff-69cb-4030-b44e-3ebfb777702c"
      },
      "source": [
        "Array_a = np.arange(1,7).reshape(2,3)  # 2x3 array\n",
        "print(\"Array_a:\\n\", Array_a)\n",
        "print(\"Shape of Array_a:\", Array_a.shape)\n",
        "print(\"\\n\")\n",
        "\n",
        "Array_b = np.array([0,2,1]) #row vector\n",
        "print(\"Array_b:\\n\", Array_b)\n",
        "print(\"Shape of Array_b:\", Array_b.shape)\n",
        "print(\"\\n\")\n",
        "\n",
        "print(\"Result of Array_a * Array_b :\\n\", Array_a * Array_b)#b will be treated as \n",
        "                                            #[[0,2,1]\n",
        "                                            #[0,2,1]]\n",
        "print(\"Shape of Array_a * Array_b :\\n\", (Array_a * Array_b).shape)"
      ],
      "execution_count": 100,
      "outputs": [
        {
          "output_type": "stream",
          "text": [
            "Array_a:\n",
            " [[1 2 3]\n",
            " [4 5 6]]\n",
            "Shape of Array_a: (2, 3)\n",
            "\n",
            "\n",
            "Array_b:\n",
            " [0 2 1]\n",
            "Shape of Array_b: (3,)\n",
            "\n",
            "\n",
            "Result of Array_a * Array_b :\n",
            " [[ 0  4  3]\n",
            " [ 0 10  6]]\n",
            "Shape of Array_a * Array_b :\n",
            " (2, 3)\n"
          ],
          "name": "stdout"
        }
      ]
    },
    {
      "cell_type": "markdown",
      "metadata": {
        "colab_type": "text",
        "id": "H_m0Kvj4hhFs"
      },
      "source": [
        "## Exercise 6: Multipy a 2x3 Array with 2x1 Array"
      ]
    },
    {
      "cell_type": "markdown",
      "metadata": {
        "colab_type": "text",
        "id": "Rqc7MWnleBo2"
      },
      "source": [
        "Multipy Array_a by column vector, and print out the result array."
      ]
    },
    {
      "cell_type": "code",
      "metadata": {
        "colab_type": "code",
        "id": "HBaDMzPYee3D",
        "colab": {
          "base_uri": "https://localhost:8080/",
          "height": 103
        },
        "outputId": "9f89057e-1d06-4cd3-db2a-68bce32c85b5"
      },
      "source": [
        "Array_a = np.arange(1,7).reshape(2,3)  # 2x3 array\n",
        "#You need to transform Array_a into:\n",
        "#[[0, 0, 0]\n",
        "#[8, 10, 12]]\n",
        "#by multiplying Array_a with Array_c\n",
        "\n",
        "Array_c = np.array([[0],\n",
        "           [2]]) #Type your code here\n",
        "     #Array_c should be column vector\n",
        "print(\"Result of Array_a*Array_c:\\n\", Array_a*Array_c)\n",
        "print(\"Shape of Array_a * Array_c :\\n\", (Array_a * Array_c).shape)"
      ],
      "execution_count": 101,
      "outputs": [
        {
          "output_type": "stream",
          "text": [
            "Result of Array_a*Array_c:\n",
            " [[ 0  0  0]\n",
            " [ 8 10 12]]\n",
            "Shape of Array_a * Array_c :\n",
            " (2, 3)\n"
          ],
          "name": "stdout"
        }
      ]
    },
    {
      "cell_type": "markdown",
      "metadata": {
        "colab_type": "text",
        "id": "JMfORB2zJ2A7"
      },
      "source": [
        "# **Common Mathematical/Statistical Functions**"
      ]
    },
    {
      "cell_type": "markdown",
      "metadata": {
        "colab_type": "text",
        "id": "vHWMq6jNiObN"
      },
      "source": [
        "##Example:"
      ]
    },
    {
      "cell_type": "code",
      "metadata": {
        "colab_type": "code",
        "id": "ymhYvFEjqOxE",
        "colab": {
          "base_uri": "https://localhost:8080/",
          "height": 343
        },
        "outputId": "08cfe712-1c25-44ba-bce3-8c0ad781c9ca"
      },
      "source": [
        "a = np.arange(1,13).reshape(4,3)  #4x3 array\n",
        "print(\"nparray a:\\n\", a)\n",
        "print('Shape of a:', a.shape, '\\n')\n",
        "\n",
        "#mean\n",
        "print(\"mean:\\n\", np.mean(a))\n",
        "\n",
        "#max\n",
        "print(\"max value:\\n\", np.max(a))\n",
        "\n",
        "#sum\n",
        "print(\"sum:\\n\", np.sum(a))\n",
        "\n",
        "#standard deviation\n",
        "print(\"standard deviation:\\n\", np.std(a))\n",
        "\n",
        "#variance\n",
        "print(\"variance:\\n\", np.var(a))\n",
        "print(\"\\n\")"
      ],
      "execution_count": 102,
      "outputs": [
        {
          "output_type": "stream",
          "text": [
            "nparray a:\n",
            " [[ 1  2  3]\n",
            " [ 4  5  6]\n",
            " [ 7  8  9]\n",
            " [10 11 12]]\n",
            "Shape of a: (4, 3) \n",
            "\n",
            "mean:\n",
            " 6.5\n",
            "max value:\n",
            " 12\n",
            "sum:\n",
            " 78\n",
            "standard deviation:\n",
            " 3.452052529534663\n",
            "variance:\n",
            " 11.916666666666666\n",
            "\n",
            "\n"
          ],
          "name": "stdout"
        }
      ]
    },
    {
      "cell_type": "code",
      "metadata": {
        "colab_type": "code",
        "id": "Clq1esPQWW4B",
        "colab": {
          "base_uri": "https://localhost:8080/",
          "height": 326
        },
        "outputId": "94d7ad79-b36b-4873-ea61-94a96b65fe47"
      },
      "source": [
        "a = np.arange(1,13).reshape(4,3)  #4x3 array\n",
        "print(\"nparray a:\\n\", a)\n",
        "print('Shape of a:', a.shape)\n",
        "\n",
        "#mean\n",
        "print(\"mean:\\n\", np.mean(a, axis=0))\n",
        "\n",
        "#max\n",
        "print(\"max value:\\n\", np.max(a, axis=0))\n",
        "\n",
        "#sum\n",
        "print(\"sum:\\n\", np.sum(a, axis=0))\n",
        "\n",
        "#standard deviation\n",
        "print(\"standard deviation:\\n\", np.std(a, axis=0))\n",
        "\n",
        "#variance\n",
        "print(\"variance:\\n\", np.var(a, axis=0))\n",
        "print(\"\\n\")"
      ],
      "execution_count": 103,
      "outputs": [
        {
          "output_type": "stream",
          "text": [
            "nparray a:\n",
            " [[ 1  2  3]\n",
            " [ 4  5  6]\n",
            " [ 7  8  9]\n",
            " [10 11 12]]\n",
            "Shape of a: (4, 3)\n",
            "mean:\n",
            " [5.5 6.5 7.5]\n",
            "max value:\n",
            " [10 11 12]\n",
            "sum:\n",
            " [22 26 30]\n",
            "standard deviation:\n",
            " [3.35410197 3.35410197 3.35410197]\n",
            "variance:\n",
            " [11.25 11.25 11.25]\n",
            "\n",
            "\n"
          ],
          "name": "stdout"
        }
      ]
    },
    {
      "cell_type": "code",
      "metadata": {
        "colab_type": "code",
        "id": "ZeHr48srWcJY",
        "colab": {
          "base_uri": "https://localhost:8080/",
          "height": 326
        },
        "outputId": "31fa4310-ca7c-4ef2-e4a4-4c70fd56c3fc"
      },
      "source": [
        "a = np.arange(1,13).reshape(4,3)  #4x3 array\n",
        "print(\"nparray a:\\n\", a)\n",
        "print('Shape of a:', a.shape)\n",
        "\n",
        "#mean\n",
        "print(\"mean:\\n\", np.mean(a, axis=1))\n",
        "\n",
        "#max\n",
        "print(\"max value:\\n\", np.max(a, axis=1))\n",
        "\n",
        "#sum\n",
        "print(\"sum:\\n\", np.sum(a, axis=1))\n",
        "\n",
        "#standard deviation\n",
        "print(\"standard deviation:\\n\", np.std(a, axis=1))\n",
        "\n",
        "#variance\n",
        "print(\"variance:\\n\", np.var(a, axis=1))\n",
        "print(\"\\n\")"
      ],
      "execution_count": 104,
      "outputs": [
        {
          "output_type": "stream",
          "text": [
            "nparray a:\n",
            " [[ 1  2  3]\n",
            " [ 4  5  6]\n",
            " [ 7  8  9]\n",
            " [10 11 12]]\n",
            "Shape of a: (4, 3)\n",
            "mean:\n",
            " [ 2.  5.  8. 11.]\n",
            "max value:\n",
            " [ 3  6  9 12]\n",
            "sum:\n",
            " [ 6 15 24 33]\n",
            "standard deviation:\n",
            " [0.81649658 0.81649658 0.81649658 0.81649658]\n",
            "variance:\n",
            " [0.66666667 0.66666667 0.66666667 0.66666667]\n",
            "\n",
            "\n"
          ],
          "name": "stdout"
        }
      ]
    },
    {
      "cell_type": "markdown",
      "metadata": {
        "colab_type": "text",
        "id": "3270e5PVttNh"
      },
      "source": [
        "##Exercise 7: Calculate sum of series"
      ]
    },
    {
      "cell_type": "code",
      "metadata": {
        "colab_type": "code",
        "id": "sDgKfL0OuXs2",
        "colab": {
          "base_uri": "https://localhost:8080/",
          "height": 34
        },
        "outputId": "c23e3cea-b72e-4913-d16d-62571c1dfe6e"
      },
      "source": [
        "#Calculate 2+4+6+8+....+100\n",
        "\n",
        "a = np.arange(1,101,2 )#Type your code to create numpy array using np.arange\n",
        "result = a.sum() #Type your code to calculate the sum of the numpy array\n",
        "print(\"2+4+6+8+....+100 = \", result) #The result should be 2550"
      ],
      "execution_count": 105,
      "outputs": [
        {
          "output_type": "stream",
          "text": [
            "2+4+6+8+....+100 =  2500\n"
          ],
          "name": "stdout"
        }
      ]
    },
    {
      "cell_type": "markdown",
      "metadata": {
        "colab_type": "text",
        "id": "gI1ZIZsbhPdU"
      },
      "source": [
        "# **Note about NumPy array**"
      ]
    },
    {
      "cell_type": "markdown",
      "metadata": {
        "colab_type": "text",
        "id": "zvsqKmRMhfqj"
      },
      "source": [
        "Changing an element of b_list won't affect the elements of a_list"
      ]
    },
    {
      "cell_type": "code",
      "metadata": {
        "colab_type": "code",
        "id": "6sF1P6mKzgvA",
        "colab": {
          "base_uri": "https://localhost:8080/",
          "height": 51
        },
        "outputId": "bc161325-0462-41ff-b17e-b0cdce9aab05"
      },
      "source": [
        "a_list = [0,1,2,3,4,5]\n",
        "print(a_list)\n",
        "\n",
        "b_list = a_list[1:4]      \n",
        "print(b_list)"
      ],
      "execution_count": 106,
      "outputs": [
        {
          "output_type": "stream",
          "text": [
            "[0, 1, 2, 3, 4, 5]\n",
            "[1, 2, 3]\n"
          ],
          "name": "stdout"
        }
      ]
    },
    {
      "cell_type": "code",
      "metadata": {
        "colab_type": "code",
        "id": "WpN8ib1zzgrr",
        "colab": {}
      },
      "source": [
        "b_list[0] = 1000  #Change the first element in the b_list to 1000"
      ],
      "execution_count": 107,
      "outputs": []
    },
    {
      "cell_type": "code",
      "metadata": {
        "colab_type": "code",
        "id": "cpDT1ZgZzgpC",
        "colab": {
          "base_uri": "https://localhost:8080/",
          "height": 51
        },
        "outputId": "cd657516-9c89-47b3-d903-6719deb0228d"
      },
      "source": [
        "print(a_list)\n",
        "print(b_list)"
      ],
      "execution_count": 108,
      "outputs": [
        {
          "output_type": "stream",
          "text": [
            "[0, 1, 2, 3, 4, 5]\n",
            "[1000, 2, 3]\n"
          ],
          "name": "stdout"
        }
      ]
    },
    {
      "cell_type": "markdown",
      "metadata": {
        "colab_type": "text",
        "id": "5k8JbHtohr1w"
      },
      "source": [
        "But changing an element of b_array will also change the corresponding element of a_array"
      ]
    },
    {
      "cell_type": "code",
      "metadata": {
        "colab_type": "code",
        "id": "Q2-A2wyn0LZ5",
        "colab": {
          "base_uri": "https://localhost:8080/",
          "height": 51
        },
        "cellView": "both",
        "outputId": "895eb57c-8604-4218-b509-d19467360d79"
      },
      "source": [
        "#@title\n",
        "a_array = np.array([0,1,2,3,4,5])\n",
        "print(a_array)\n",
        "b_array = a_array[1:4]\n",
        "print(b_array)\n",
        "\n"
      ],
      "execution_count": 109,
      "outputs": [
        {
          "output_type": "stream",
          "text": [
            "[0 1 2 3 4 5]\n",
            "[1 2 3]\n"
          ],
          "name": "stdout"
        }
      ]
    },
    {
      "cell_type": "code",
      "metadata": {
        "colab_type": "code",
        "id": "bhDp2Efkhzpl",
        "colab": {}
      },
      "source": [
        "b_array [0] = 1000   #Change the first element in the b_array to 1000"
      ],
      "execution_count": 110,
      "outputs": []
    },
    {
      "cell_type": "code",
      "metadata": {
        "colab_type": "code",
        "id": "MA6O4MWRh0j1",
        "colab": {
          "base_uri": "https://localhost:8080/",
          "height": 51
        },
        "outputId": "4c96c874-bdd1-4102-c102-396e0923e2f8"
      },
      "source": [
        "print(a_array)\n",
        "print(b_array)"
      ],
      "execution_count": 111,
      "outputs": [
        {
          "output_type": "stream",
          "text": [
            "[   0 1000    2    3    4    5]\n",
            "[1000    2    3]\n"
          ],
          "name": "stdout"
        }
      ]
    },
    {
      "cell_type": "markdown",
      "metadata": {
        "colab_type": "text",
        "id": "fkxYlRPziGPM"
      },
      "source": [
        "You need to create a new instant of an array when creating b_array if you don't want to alter a_array when altering b_array"
      ]
    },
    {
      "cell_type": "code",
      "metadata": {
        "colab_type": "code",
        "id": "W4XnMyLriGbu",
        "colab": {
          "base_uri": "https://localhost:8080/",
          "height": 51
        },
        "cellView": "both",
        "outputId": "d8860298-1dcc-48d6-e430-eb90f6ff098f"
      },
      "source": [
        "#@title\n",
        "a_array = np.array([0,1,2,3,4,5])\n",
        "print(a_array)\n",
        "b_array  = a_array[1:4].copy() # or b_array  = np.array(a_array [1:4])\n",
        "\n",
        "print(b_array)\n",
        "\n"
      ],
      "execution_count": 112,
      "outputs": [
        {
          "output_type": "stream",
          "text": [
            "[0 1 2 3 4 5]\n",
            "[1 2 3]\n"
          ],
          "name": "stdout"
        }
      ]
    },
    {
      "cell_type": "code",
      "metadata": {
        "colab_type": "code",
        "id": "mSJR909QiGbw",
        "colab": {}
      },
      "source": [
        "b_array [0] = 1000"
      ],
      "execution_count": 113,
      "outputs": []
    },
    {
      "cell_type": "code",
      "metadata": {
        "colab_type": "code",
        "id": "uJKKagfKiGby",
        "colab": {
          "base_uri": "https://localhost:8080/",
          "height": 51
        },
        "cellView": "both",
        "outputId": "c845b9dc-f18f-41e5-c3e3-7069815297b5"
      },
      "source": [
        "#@title\n",
        "print(a_array)\n",
        "print(b_array)"
      ],
      "execution_count": 114,
      "outputs": [
        {
          "output_type": "stream",
          "text": [
            "[0 1 2 3 4 5]\n",
            "[1000    2    3]\n"
          ],
          "name": "stdout"
        }
      ]
    }
  ]
}