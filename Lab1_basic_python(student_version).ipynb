{
  "nbformat": 4,
  "nbformat_minor": 0,
  "metadata": {
    "colab": {
      "name": "Lab1.basic_python(student_version).ipynb",
      "provenance": [],
      "collapsed_sections": []
    },
    "kernelspec": {
      "display_name": "Python 3",
      "language": "python",
      "name": "python3"
    },
    "language_info": {
      "codemirror_mode": {
        "name": "ipython",
        "version": 3
      },
      "file_extension": ".py",
      "mimetype": "text/x-python",
      "name": "python",
      "nbconvert_exporter": "python",
      "pygments_lexer": "ipython3",
      "version": "3.7.7"
    }
  },
  "cells": [
    {
      "cell_type": "markdown",
      "metadata": {
        "id": "-MXL9iNHDi3H",
        "colab_type": "text"
      },
      "source": [
        "# **Basic Python**\n",
        "\n",
        "This notebook introduces the basic syntax of Python\n",
        "\n",
        "\\\n",
        "**Instruction: type your code when you see 'Type your code here' in comments**"
      ]
    },
    {
      "cell_type": "markdown",
      "metadata": {
        "id": "YvkTZm4cDi3L",
        "colab_type": "text"
      },
      "source": [
        "# exercise 1"
      ]
    },
    {
      "cell_type": "markdown",
      "metadata": {
        "id": "QFXjyPrIDi3N",
        "colab_type": "text"
      },
      "source": [
        "Write a program to ask the user for his/her name\n"
      ]
    },
    {
      "cell_type": "code",
      "metadata": {
        "pycharm": {
          "name": "#%%\n"
        },
        "id": "1zTfrUssDi3Q",
        "colab_type": "code",
        "colab": {},
        "outputId": "9df282b3-1b43-4c90-eaf7-82a8641987a7"
      },
      "source": [
        "#Type your code here\n",
        "name = input('what\\'s your name?')\n",
        "print('hello %s!' % name)\n"
      ],
      "execution_count": null,
      "outputs": [
        {
          "output_type": "stream",
          "text": [
            "hello dmdd!\n"
          ],
          "name": "stdout"
        }
      ]
    },
    {
      "cell_type": "markdown",
      "metadata": {
        "id": "edk34KAgDi3j",
        "colab_type": "text"
      },
      "source": [
        "# exercise2"
      ]
    },
    {
      "cell_type": "markdown",
      "metadata": {
        "id": "j_tY8du6Di3k",
        "colab_type": "text"
      },
      "source": [
        "2.1 Try to run the codes below, what do you see?"
      ]
    },
    {
      "cell_type": "code",
      "metadata": {
        "pycharm": {
          "name": "#%%\n"
        },
        "id": "9IQ5CN22Di3l",
        "colab_type": "code",
        "colab": {},
        "outputId": "ff3228f3-d43b-4262-b20d-5bf5676033af"
      },
      "source": [
        "b = 12345 \n",
        "a = str(b) \n",
        "print(type(a))\n",
        "a"
      ],
      "execution_count": null,
      "outputs": [
        {
          "output_type": "stream",
          "text": [
            "<class 'str'>\n"
          ],
          "name": "stdout"
        },
        {
          "output_type": "execute_result",
          "data": {
            "text/plain": [
              "'12345'"
            ]
          },
          "metadata": {
            "tags": []
          },
          "execution_count": 2
        }
      ]
    },
    {
      "cell_type": "markdown",
      "metadata": {
        "id": "tUa5MCNMDi3x",
        "colab_type": "text"
      },
      "source": [
        "2.2 Try to convert the followings to bool(), what do you see?\n",
        "\n",
        "\n",
        "\n",
        "\n",
        "1.   '' (This presents empty string)\n",
        "2.   'abc'\n",
        "3.   1\n",
        "4.   0\n",
        "5.   '0'\n",
        "6.   '#%@#$%'\n",
        "\n",
        "\n",
        "\n"
      ]
    },
    {
      "cell_type": "markdown",
      "metadata": {
        "id": "2Gs6o5oNDi3z",
        "colab_type": "text"
      },
      "source": [
        "2.2.1 "
      ]
    },
    {
      "cell_type": "code",
      "metadata": {
        "pycharm": {
          "name": "#%%\n"
        },
        "id": "4V-rxUn3Di30",
        "colab_type": "code",
        "colab": {},
        "outputId": "1d5ea282-4657-4c1a-bce4-d5a955892311"
      },
      "source": [
        "#Type your code here\n",
        "bool('')\n",
        "#False"
      ],
      "execution_count": null,
      "outputs": [
        {
          "output_type": "execute_result",
          "data": {
            "text/plain": [
              "False"
            ]
          },
          "metadata": {
            "tags": []
          },
          "execution_count": 52
        }
      ]
    },
    {
      "cell_type": "markdown",
      "metadata": {
        "id": "TVMyM3uGDi36",
        "colab_type": "text"
      },
      "source": [
        "2.2.2"
      ]
    },
    {
      "cell_type": "code",
      "metadata": {
        "pycharm": {
          "name": "#%%\n"
        },
        "id": "iZE3HV_xDi38",
        "colab_type": "code",
        "colab": {},
        "outputId": "3bfdaa40-d9a7-41ca-af48-dcdd39faccc3"
      },
      "source": [
        "#Type your code here\n",
        "bool('abc')\n",
        "#True"
      ],
      "execution_count": null,
      "outputs": [
        {
          "output_type": "execute_result",
          "data": {
            "text/plain": [
              "True"
            ]
          },
          "metadata": {
            "tags": []
          },
          "execution_count": 11
        }
      ]
    },
    {
      "cell_type": "markdown",
      "metadata": {
        "id": "3T2ppfJVDi4F",
        "colab_type": "text"
      },
      "source": [
        "2.2.3\n"
      ]
    },
    {
      "cell_type": "code",
      "metadata": {
        "pycharm": {
          "name": "#%%\n"
        },
        "id": "JUWrKY6cDi4G",
        "colab_type": "code",
        "colab": {},
        "outputId": "d983e660-c52d-4c50-f2fe-439412fa19de"
      },
      "source": [
        "#Type your code here\n",
        "bool(1)\n",
        "#True"
      ],
      "execution_count": null,
      "outputs": [
        {
          "output_type": "execute_result",
          "data": {
            "text/plain": [
              "True"
            ]
          },
          "metadata": {
            "tags": []
          },
          "execution_count": 12
        }
      ]
    },
    {
      "cell_type": "markdown",
      "metadata": {
        "id": "1WIjKKDsDi4O",
        "colab_type": "text"
      },
      "source": [
        "2.2.4"
      ]
    },
    {
      "cell_type": "code",
      "metadata": {
        "pycharm": {
          "name": "#%%\n"
        },
        "id": "7Ma3LiFnDi4P",
        "colab_type": "code",
        "colab": {},
        "outputId": "c26170e9-b732-4374-edf5-f41a1eecce6a"
      },
      "source": [
        "#Type your code here\n",
        "bool(0)\n",
        "#False"
      ],
      "execution_count": null,
      "outputs": [
        {
          "output_type": "execute_result",
          "data": {
            "text/plain": [
              "False"
            ]
          },
          "metadata": {
            "tags": []
          },
          "execution_count": 13
        }
      ]
    },
    {
      "cell_type": "markdown",
      "metadata": {
        "id": "ED3HU0k7Di4V",
        "colab_type": "text"
      },
      "source": [
        "2.2.5"
      ]
    },
    {
      "cell_type": "code",
      "metadata": {
        "pycharm": {
          "name": "#%%\n"
        },
        "id": "6u8IoQAsDi4W",
        "colab_type": "code",
        "colab": {},
        "outputId": "01eecc90-19b3-400d-cf58-6802133e4e88"
      },
      "source": [
        "#Type your code here\n",
        "bool('0')\n",
        "#True"
      ],
      "execution_count": null,
      "outputs": [
        {
          "output_type": "execute_result",
          "data": {
            "text/plain": [
              "True"
            ]
          },
          "metadata": {
            "tags": []
          },
          "execution_count": 14
        }
      ]
    },
    {
      "cell_type": "markdown",
      "metadata": {
        "id": "ZtCb9LpjDi4e",
        "colab_type": "text"
      },
      "source": [
        "2.2.6"
      ]
    },
    {
      "cell_type": "code",
      "metadata": {
        "pycharm": {
          "name": "#%%\n"
        },
        "id": "lVKtVODeDi4f",
        "colab_type": "code",
        "colab": {},
        "outputId": "919b08d8-3ee8-49de-ce92-18925800817b"
      },
      "source": [
        "#Type your code here\n",
        "bool('#%@#$%')\n",
        "#True"
      ],
      "execution_count": null,
      "outputs": [
        {
          "output_type": "execute_result",
          "data": {
            "text/plain": [
              "True"
            ]
          },
          "metadata": {
            "tags": []
          },
          "execution_count": 15
        }
      ]
    },
    {
      "cell_type": "markdown",
      "metadata": {
        "id": "-Cbo5j1mDi4w",
        "colab_type": "text"
      },
      "source": [
        "# exercise3\n"
      ]
    },
    {
      "cell_type": "markdown",
      "metadata": {
        "id": "VjZOu-miDi4y",
        "colab_type": "text"
      },
      "source": [
        "a=123.45\n",
        "\n",
        "b='456.78'\n",
        "\n",
        "a+b"
      ]
    },
    {
      "cell_type": "code",
      "metadata": {
        "pycharm": {
          "name": "#%%\n"
        },
        "id": "zRkITIcUDi40",
        "colab_type": "code",
        "colab": {},
        "outputId": "51e52f1e-2fae-44f7-c913-f0702ac23530"
      },
      "source": [
        "#Type your code here\n",
        "\n",
        "a = 123.45\n",
        "b = '456.78'\n",
        "a + b"
      ],
      "execution_count": null,
      "outputs": [
        {
          "output_type": "error",
          "ename": "TypeError",
          "evalue": "unsupported operand type(s) for +: 'float' and 'str'",
          "traceback": [
            "\u001b[1;31m---------------------------------------------------------------------------\u001b[0m",
            "\u001b[1;31mTypeError\u001b[0m                                 Traceback (most recent call last)",
            "\u001b[1;32m<ipython-input-16-637bb963c93e>\u001b[0m in \u001b[0;36m<module>\u001b[1;34m\u001b[0m\n\u001b[0;32m      3\u001b[0m \u001b[0ma\u001b[0m \u001b[1;33m=\u001b[0m \u001b[1;36m123.45\u001b[0m\u001b[1;33m\u001b[0m\u001b[1;33m\u001b[0m\u001b[0m\n\u001b[0;32m      4\u001b[0m \u001b[0mb\u001b[0m \u001b[1;33m=\u001b[0m \u001b[1;34m'456.78'\u001b[0m\u001b[1;33m\u001b[0m\u001b[1;33m\u001b[0m\u001b[0m\n\u001b[1;32m----> 5\u001b[1;33m \u001b[0ma\u001b[0m \u001b[1;33m+\u001b[0m \u001b[0mb\u001b[0m\u001b[1;33m\u001b[0m\u001b[1;33m\u001b[0m\u001b[0m\n\u001b[0m",
            "\u001b[1;31mTypeError\u001b[0m: unsupported operand type(s) for +: 'float' and 'str'"
          ]
        }
      ]
    },
    {
      "cell_type": "markdown",
      "metadata": {
        "id": "PWztdVtSDi48",
        "colab_type": "text"
      },
      "source": [
        "Interpret the variable **b** as a floating point number and add it to the variable **a**"
      ]
    },
    {
      "cell_type": "code",
      "metadata": {
        "pycharm": {
          "name": "#%%\n"
        },
        "id": "zfi4byO6Di49",
        "colab_type": "code",
        "colab": {},
        "outputId": "db562461-0785-4162-bad6-36d53b120550"
      },
      "source": [
        "#Type your code here\n",
        "a = 123.45\n",
        "b = '456.78'\n",
        "\n",
        "print(a + float(b))"
      ],
      "execution_count": null,
      "outputs": [
        {
          "output_type": "stream",
          "text": [
            "580.23\n"
          ],
          "name": "stdout"
        }
      ]
    },
    {
      "cell_type": "markdown",
      "metadata": {
        "id": "L-riyBP9Di5F",
        "colab_type": "text"
      },
      "source": [
        "Interpret the variable **a** as a string and concatenate it with the variable **b**"
      ]
    },
    {
      "cell_type": "code",
      "metadata": {
        "pycharm": {
          "name": "#%%\n"
        },
        "id": "c-bYxqgFDi5G",
        "colab_type": "code",
        "colab": {},
        "outputId": "32e46e25-ded7-4994-832f-befd5162e8ff"
      },
      "source": [
        "#Type your code here\n",
        "a = 123.45\n",
        "b = '456.78'\n",
        "\n",
        "print(str(a) + b)"
      ],
      "execution_count": null,
      "outputs": [
        {
          "output_type": "stream",
          "text": [
            "123.45456.78\n"
          ],
          "name": "stdout"
        }
      ]
    },
    {
      "cell_type": "markdown",
      "metadata": {
        "id": "yI0ahW1PDi5N",
        "colab_type": "text"
      },
      "source": [
        "# exercise4"
      ]
    },
    {
      "cell_type": "markdown",
      "metadata": {
        "id": "ubsprps2Di5O",
        "colab_type": "text"
      },
      "source": [
        "There are 3 people: John, Matt and Brian, here are their weights (in kg):\n",
        "\n",
        "\n",
        "\n",
        "<!DOCTYPE html>\n",
        "<html>\n",
        "<head>\n",
        "<style>\n",
        "\n",
        "table {\n",
        "  font-family: arial, sans-serif;\n",
        "  border-collapse: collapse;\n",
        "  width: 100%;\n",
        "  font-size: 10px;\n",
        "  text-align:  center;\n",
        "}\n",
        "\n",
        "td,th {\n",
        "  border: 10px solid #dddddd;\n",
        "  text-align:  center;\n",
        "  font-size: 20px;\n",
        "  padding: 8px;\n",
        "}\n",
        "\n",
        "tr:nth-child(even) {\n",
        "  background-color: #dddddd;\n",
        "}\n",
        "</style>\n",
        "</head>\n",
        "<body>\n",
        "\n",
        "\n",
        "<table>\n",
        "  <tr>\n",
        "    <th>Name</th>\n",
        "    <th>Weight (in kg)</th>\n",
        "  </tr>\n",
        "\n",
        "  <tr>\n",
        "    <td>John</td>\n",
        "    <td>60</td>\n",
        "  </tr>\n",
        "\n",
        "  <tr>\n",
        "    <td>Matt</td>\n",
        "    <td>70</td>\n",
        "  </tr>\n",
        "\n",
        "  <tr>\n",
        "    <td>Brian</td>\n",
        "    <td>90</td>\n",
        "  </tr>\n",
        "\n",
        "</table>\n",
        "\n",
        "</body>\n",
        "</html>\n",
        "\n",
        "Write a program to calculate the sum and the mean of their weights,\n",
        "then print them out to the console."
      ]
    },
    {
      "cell_type": "code",
      "metadata": {
        "pycharm": {
          "name": "#%%\n"
        },
        "id": "LUbcMnTqDi5R",
        "colab_type": "code",
        "colab": {},
        "outputId": "2e17e85a-0096-4b79-e1e1-7d4b5123bf1a"
      },
      "source": [
        "#Type your code here\n",
        "\n",
        "weight = [60, 70, 90]\n",
        "print('sum of weight = %d' % sum(weight))\n",
        "print('mean of weight  = %d' % (sum(weight)/len(weight)))\n"
      ],
      "execution_count": null,
      "outputs": [
        {
          "output_type": "stream",
          "text": [
            "sum of weight = 220\n",
            "mean of weight  = 73\n"
          ],
          "name": "stdout"
        }
      ]
    },
    {
      "cell_type": "markdown",
      "metadata": {
        "id": "1rveo2ZxDi5Z",
        "colab_type": "text"
      },
      "source": [
        "# exercise 5"
      ]
    },
    {
      "cell_type": "markdown",
      "metadata": {
        "id": "iydMxhd1Di5a",
        "colab_type": "text"
      },
      "source": [
        "\n",
        "\n",
        "*   Declare two variables **x** and **y** with the same value 0.1\n",
        "*   See what the “==” and “is” operator return\n",
        "*   Check the ids of the variables\n",
        "*   Explain the result\n",
        "\n",
        "\n",
        "\n",
        "\n",
        "\n"
      ]
    },
    {
      "cell_type": "code",
      "metadata": {
        "pycharm": {
          "name": "#%%\n"
        },
        "id": "9S32lSRNDi5b",
        "colab_type": "code",
        "colab": {},
        "outputId": "873b9d75-4ab8-47ba-b51c-cd9acca12448"
      },
      "source": [
        "#Type your code here\n",
        "x = y = 0.1\n",
        "x == y\n",
        "#True"
      ],
      "execution_count": null,
      "outputs": [
        {
          "output_type": "execute_result",
          "data": {
            "text/plain": [
              "True"
            ]
          },
          "metadata": {
            "tags": []
          },
          "execution_count": 22
        }
      ]
    },
    {
      "cell_type": "markdown",
      "metadata": {
        "id": "Vepr8JMIDi5m",
        "colab_type": "text"
      },
      "source": [
        "Check the ids of the variables"
      ]
    },
    {
      "cell_type": "code",
      "metadata": {
        "pycharm": {
          "name": "#%%\n"
        },
        "id": "3bH6aBzRDi5p",
        "colab_type": "code",
        "colab": {},
        "outputId": "e8da2145-18db-4b16-8ffd-7efdaf14674f"
      },
      "source": [
        "#Type your code here\n",
        "x = y = 0.1\n",
        "x is y\n",
        "#True"
      ],
      "execution_count": null,
      "outputs": [
        {
          "output_type": "execute_result",
          "data": {
            "text/plain": [
              "True"
            ]
          },
          "metadata": {
            "tags": []
          },
          "execution_count": 23
        }
      ]
    },
    {
      "cell_type": "markdown",
      "metadata": {
        "id": "PZAS4t56Di5w",
        "colab_type": "text"
      },
      "source": [
        "# exercise 6"
      ]
    },
    {
      "cell_type": "markdown",
      "metadata": {
        "id": "PSr0zStoDi5x",
        "colab_type": "text"
      },
      "source": [
        "* Try to create a “tuple” with one element like this:\n",
        "\n",
        ">  number  = (1)\n",
        "\n",
        "\n",
        "\n",
        "\n",
        "* Check the type with the function type(), what do you see?\n",
        "\n",
        "* What about a tuple with a comma?\n",
        "\n",
        ">  number  = (1,)\n",
        "\n",
        "* Explain your result\n"
      ]
    },
    {
      "cell_type": "code",
      "metadata": {
        "pycharm": {
          "name": "#%%\n"
        },
        "id": "Cje-eSsYDi5y",
        "colab_type": "code",
        "colab": {},
        "outputId": "18eec8a9-85c3-4ed1-8dd8-e1922bfbbeb9"
      },
      "source": [
        "#Type your code here\n",
        "number = (1)\n",
        "number0 = (1,)\n",
        "print(type(number))\n",
        "print(type(number0))\n",
        "#<class 'int'>\n",
        "#<class 'tuple'>"
      ],
      "execution_count": null,
      "outputs": [
        {
          "output_type": "stream",
          "text": [
            "<class 'int'>\n",
            "<class 'tuple'>\n"
          ],
          "name": "stdout"
        }
      ]
    },
    {
      "cell_type": "markdown",
      "metadata": {
        "id": "30VmZQIxDi55",
        "colab_type": "text"
      },
      "source": [
        "# exercise 7"
      ]
    },
    {
      "cell_type": "markdown",
      "metadata": {
        "id": "yyMnvfbpDi56",
        "colab_type": "text"
      },
      "source": [
        "* Create a dictionary\n",
        "> student = {'name':'Mary', 'name':'Clarissa', 'age':22, 'major':'business'}\n",
        "* Get the name with student[‘name’], what do you see?\n",
        "* Print out the dictionary, what do you see?\n",
        "* Explain the result\n",
        "\n"
      ]
    },
    {
      "cell_type": "code",
      "metadata": {
        "pycharm": {
          "name": "#%%\n"
        },
        "id": "JQYP-K6YDi57",
        "colab_type": "code",
        "colab": {},
        "outputId": "c832ada2-25a7-4c3b-cbd0-fa5427c39a83"
      },
      "source": [
        "#Type your code here\n",
        "student = {'name':'Mary', 'name':'Clarissa', 'age':22, 'major':'business'}\n",
        "student['name']\n",
        "student.get('name')\n",
        "#Clarissa\n",
        "#There are two same key name representing different value.\n",
        "#the computer can only recognise one of them."
      ],
      "execution_count": null,
      "outputs": [
        {
          "output_type": "execute_result",
          "data": {
            "text/plain": [
              "'Clarissa'"
            ]
          },
          "metadata": {
            "tags": []
          },
          "execution_count": 50
        }
      ]
    },
    {
      "cell_type": "markdown",
      "metadata": {
        "id": "NpBXoMxgDi6C",
        "colab_type": "text"
      },
      "source": [
        "# exercise 8"
      ]
    },
    {
      "cell_type": "markdown",
      "metadata": {
        "id": "yukuKpKwDi6D",
        "colab_type": "text"
      },
      "source": [
        "* Write a program to ask the user to input a valid phone number\n",
        "* Print out the input phone number and tell whether it is a valid phone number\n",
        "* A valid phone number always:\n",
        "\n",
        ">1. Has 8 digits\n",
        "\n",
        ">2. Start with the number 2, 3, 5, 6, or 9\n",
        "\n",
        "\n",
        "Tips: the input() function always returns a string value\n",
        "\n"
      ]
    },
    {
      "cell_type": "code",
      "metadata": {
        "pycharm": {
          "name": "#%%\n"
        },
        "id": "4o0q95Y9Di6E",
        "colab_type": "code",
        "colab": {},
        "outputId": "f1c34ada-2a67-4498-e630-afca51a5ba36"
      },
      "source": [
        "## Type your code here\n",
        "\n",
        "number = input('input a valid phone number:')\n",
        "try:\n",
        "    int(number)\n",
        "except ValueError: \n",
        "    print('invalid input: %d is not a phone number' % number)\n",
        "    continue\n",
        "if len(number) != 8 or int(number[0]) not in [2,3,5,6,9]:\n",
        "    print('invalid input: %d is not a phone number' % number)\n",
        "else:\n",
        "    print('this is a valid phone number!')\n"
      ],
      "execution_count": null,
      "outputs": [
        {
          "output_type": "stream",
          "text": [
            "input a valid phone number:test\n",
            "invalid input\n",
            "input a valid phone number:1234\n",
            "invalid input\n",
            "input a valid phone number:12345678\n",
            "invalid input\n",
            "input a valid phone number:66666666\n",
            "this is a valid phone number!\n"
          ],
          "name": "stdout"
        }
      ]
    },
    {
      "cell_type": "markdown",
      "metadata": {
        "id": "kIlurKx4Di6K",
        "colab_type": "text"
      },
      "source": [
        "# exercise 9"
      ]
    },
    {
      "cell_type": "markdown",
      "metadata": {
        "id": "v4g521jgDi6N",
        "colab_type": "text"
      },
      "source": [
        "* Write a program to print a sequence of odd number \n",
        "* Starting from 11\n",
        "* Until 25 (inclusive)\n",
        "\n",
        "Tips: you can specify the ending of the print() function with print(item, end=’ ‘)\n",
        "\n"
      ]
    },
    {
      "cell_type": "code",
      "metadata": {
        "pycharm": {
          "name": "#%%\n"
        },
        "id": "eA6acvo1Di6O",
        "colab_type": "code",
        "colab": {},
        "outputId": "fb39b358-e9c0-4b78-af2a-2695bba83991"
      },
      "source": [
        "#Type your code here\n",
        "print(list(filter(lambda x : x % 2 , range(11,26))))\n",
        "print(list(range(11,26,2)))"
      ],
      "execution_count": null,
      "outputs": [
        {
          "output_type": "stream",
          "text": [
            "[11, 13, 15, 17, 19, 21, 23, 25]\n",
            "[11, 13, 15, 17, 19, 21, 23, 25]\n"
          ],
          "name": "stdout"
        }
      ]
    },
    {
      "cell_type": "markdown",
      "metadata": {
        "id": "ZfnDNNNHDi6V",
        "colab_type": "text"
      },
      "source": [
        "# exercise10"
      ]
    },
    {
      "cell_type": "markdown",
      "metadata": {
        "id": "hib0x20uDi6W",
        "colab_type": "text"
      },
      "source": [
        "* Back to the phone number exercise\n",
        "* Can you modify it such that it keeps asking until the number is a valid phone number?\n",
        "* Does your program behave correctly in all test cases?\n",
        "\n",
        "* Test cases:\n",
        "> 1. 9876543 (not valid)\n",
        "> 2. 2345 (not valid)\n",
        "> 3. 12345678 (not valid)\n",
        "> 4. 23456789 (valid)\n",
        "> 5. 65218819 (valid)\n",
        "\n",
        "\n"
      ]
    },
    {
      "cell_type": "code",
      "metadata": {
        "id": "SWPFaHk7Di6Y",
        "colab_type": "code",
        "colab": {
          "base_uri": "https://localhost:8080/",
          "height": 91
        },
        "outputId": "54f87ca8-7348-4378-ac4c-649edf50b0b8"
      },
      "source": [
        "#Type your code here\n",
        "while True:\n",
        "    number = input('input a valid phone number:')\n",
        "    try:\n",
        "        int(number)\n",
        "    except ValueError: \n",
        "        print('invalid input: %s is not a phone number' % number)\n",
        "        continue\n",
        "    if len(number) != 8 or int(number[0]) not in [2,3,5,6,9]:\n",
        "        print('invalid input: %s is not a phone number' % number)\n",
        "    else:\n",
        "        break\n",
        "print('this is a valid phone number!')"
      ],
      "execution_count": null,
      "outputs": [
        {
          "output_type": "stream",
          "text": [
            "input a valid phone number:9876543\n",
            "invalid input: 9876543 is not a phone number\n"
          ],
          "name": "stdout"
        }
      ]
    }
  ]
}